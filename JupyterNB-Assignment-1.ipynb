{
    "cells": [
        {
            "cell_type": "markdown",
            "metadata": {
                "collapsed": true
            },
            "source": "# My Jupyter Notebook on IBM Watson Studio"
        },
        {
            "cell_type": "markdown",
            "metadata": {},
            "source": "## __Vikram Toprani__\n\nIT Project Manager"
        },
        {
            "cell_type": "markdown",
            "metadata": {},
            "source": "_I am interested in data science because it assists to gain insights into real life problems and identify the best possible solutions._"
        },
        {
            "cell_type": "markdown",
            "metadata": {},
            "source": "### Below code will print integers from 1 to 10"
        },
        {
            "cell_type": "code",
            "execution_count": 4,
            "metadata": {},
            "outputs": [
                {
                    "name": "stdout",
                    "output_type": "stream",
                    "text": "1\n2\n3\n4\n5\n6\n7\n8\n9\n10\n"
                }
            ],
            "source": "def printNos(n):\n    for i in range (1, n+1):\n        print(i)\n    \nprintNos(10)"
        },
        {
            "cell_type": "markdown",
            "metadata": {},
            "source": "***\n|Markdowns|are|amazing|\n|:---|:---:|---:|\n|col 1|is left|aligned|\n|col 2|is right|aligned|\n|col 3|is center|aligned|\n\n---\n[*Visit IBM Cloud for more details*](https://cloud.ibm.com/)"
        }
    ],
    "metadata": {
        "kernelspec": {
            "display_name": "Python 3.8",
            "language": "python",
            "name": "python3"
        },
        "language_info": {
            "codemirror_mode": {
                "name": "ipython",
                "version": 3
            },
            "file_extension": ".py",
            "mimetype": "text/x-python",
            "name": "python",
            "nbconvert_exporter": "python",
            "pygments_lexer": "ipython3",
            "version": "3.8.10"
        }
    },
    "nbformat": 4,
    "nbformat_minor": 1
}